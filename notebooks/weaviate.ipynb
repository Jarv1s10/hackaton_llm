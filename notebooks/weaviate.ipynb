{
 "cells": [
  {
   "cell_type": "code",
   "execution_count": 2,
   "metadata": {},
   "outputs": [],
   "source": [
    "import getpass\n",
    "\n",
    "import weaviate\n",
    "\n",
    "from langchain.text_splitter import RecursiveCharacterTextSplitter, TextSplitter\n",
    "from langchain.schema import Document\n",
    "from langchain.embeddings import OpenAIEmbeddings\n",
    "from langchain.vectorstores import Weaviate\n",
    "from langchain.llms import OpenAI\n",
    "from langchain.chains import RetrievalQAWithSourcesChain\n",
    "from langchain.prompts import PromptTemplate\n",
    "from langchain.memory import ConversationTokenBufferMemory, ConversationSummaryBufferMemory"
   ]
  },
  {
   "cell_type": "code",
   "execution_count": 3,
   "metadata": {},
   "outputs": [],
   "source": [
    "from dotenv import load_dotenv\n",
    "import os\n",
    "\n",
    "load_dotenv('../.env')\n",
    "\n",
    "OPENAI_API_KEY = os.getenv('OPENAI_API_KEY')\n",
    "WEAVIATE_API_KEY = os.getenv('WEAVIATE_API_KEY')\n",
    "WEAVIATE_URL = os.getenv('WEAVIATE_URL')"
   ]
  },
  {
   "cell_type": "code",
   "execution_count": 4,
   "metadata": {},
   "outputs": [],
   "source": [
    "client = weaviate.Client(\n",
    "    url=WEAVIATE_URL,\n",
    "    auth_client_secret=weaviate.AuthApiKey(api_key=WEAVIATE_API_KEY),\n",
    ")\n",
    "\n",
    "embeddings = OpenAIEmbeddings(openai_api_key=OPENAI_API_KEY)\n",
    "db = Weaviate(client, 'RGDocs', 'text', embeddings, by_text=False)\n",
    "db._query_attrs = [p['name'] for p in client.schema.get('RGDocs')['properties']]"
   ]
  },
  {
   "cell_type": "code",
   "execution_count": 5,
   "metadata": {},
   "outputs": [],
   "source": [
    "query = 'What do you know about Revenue Grid?'"
   ]
  },
  {
   "cell_type": "code",
   "execution_count": 6,
   "metadata": {},
   "outputs": [
    {
     "data": {
      "text/plain": [
       "[Document(page_content=\"Have a question?\\nYou are at the right place.\\nRevenue Grid (RG) is a premium web-based guided selling platform.\\nIt's Salesforce integration suite that includes efficient and immediate sales playbook automation for highly effective enterprise sales:\\n1. Strengthening sales forecast\\n2. Improving efficiency of carrying out routine Sales tasks\\n3. Running sophisticated Email, SMS or Phone call type of nurturing/drip campaigns\\n4. Supervising colleagues for better sales team coaching techniques\\nFor technical support, please contact\\nRG support team\\n.\\nKnowledge Base navigation\\nRevenue Grid Knowledge Base is subdivided into three major parts, which correspond to offered products:\\nProductivity Package & Activity Capture.\\nThis part covers using RG Email Sidebar and RG Sync Engine: user and admin settings, user actions, configuration, fine-tuning, etc.\\nEngagement Package.\\nThis part covers using RG Sequences, communication automation solution: user and admin settings, sequences and prospects management, team performance reports, etc.\\nIntelligence Package.\\nThis part covers revenue intelligence solution for sales and forecasting improvement, and smart Revenue Signals: user and admin settings, reports and forecasts, signals and their configuration, etc.\\nEach part has its own navigation, structure, release notes, frequently asked questions, etc.\\nThe Knowledge Base also contains some general sections:\\nAbout\\ncontains information on supported Salesforce editions, overcoming firewall issues, granting Revenue Grid login access for troubleshooting purposes.\\nRelease Notes\\nsummarizes all product release notes. If you need to the release notes of one product, you can find them in the KBs part dedicated to the product.\\nPrivacy & Security\\ndescribes howRevenue Gridcollects, uses, processes, and disclosesyour information, including personal information, in connection with your accesstoand use ofRevenue Grid servicesand products.\\nContact Us\\ncontains a list of means for contacting our Sales and Support teams.\\nWho benefits from using Revenue Grid\\nManagerial level employees who require automatically collected reports and analytics on the outcomes of the sales operation carried out by their teams, in order to increase;\\nSales representatives who generate leads, meet sales goals, use automated mass outreach as a leads nurturing and sales channel;\\nMarketing specialists who send out personalized ads, offers, or periodic digests to specific target groups by email;\\nPost-sales customer communication and support specialists sending out product/service updates, surveys, etc.;\\nMarketing and other researchers who spread branched step-by-step surveys and collect structured feedback for analysis;\", metadata={'doc_md_filepath': 'index.md', 'doc_navigation_path': '', 'doc_title': 'Salesforce integration Knowledge Base', 'doc_url': 'https://docs.revenuegrid.com/', 'section_token_length': 488, 'short_site_name': 'Sfcc', 'site_name': 'Revenue Grid Knowledge Base'}),\n",
       " Document(page_content='Dec 2020\\nDeal Guidance\\nRevenue Grid does sentiment analysis of all emails and places each on the spectrum from \"Very negative\" to \"Very positive\".\\nOn the Opportunities tab, an ability to filter Opportunities by members of a specific sales team/division has been added.\\nRead more\\n.\\nRevenue Grid widgets are available on a canvas of any Salesforce object which has email field within it.\\nRead more\\n.\\nRevenue Signals\\nNew signal has been added to the set off built-in Revenue Signals: Sales representative has responded to customer email.\\nRead more\\n.\\nWas this article helpful?\\nYes\\nNo\\nGet back to us\\nWe would love to hear from you!\\nName:\\nE-mail:\\nComment:', metadata={'doc_md_filepath': 'articles/release-notes-intelligence.md', 'doc_navigation_path': 'Intelligence Package', 'doc_title': 'Release notes', 'doc_url': 'https://docs.revenuegrid.com/articles/release-notes-intelligence', 'section_token_length': 140, 'short_site_name': 'Sfcc', 'site_name': 'Revenue Grid Knowledge Base'}),\n",
       " Document(page_content='How to open Revenue Grid\\n1. via the direct link\\nOpen the Revenue Grid access link provided by Support or Implementation teams, e.g.\\nhttps://mycompany.revenuegrid.com\\nWhen opened for the first time, you will be prompted to connect.\\nFollow the prompt with relevant option, and enter your SFDC credentials in the opened pop-up.\\n2. via Revenue Grid Email Sidebar\\nOpen Email Sidebar, whether on your Outlook.com/Office 365, MS Outlook Desktop or Gmail email client\\nOpen the Email Sidebar menu (hamburger icon **** ) and click\\nOpen Revenue Grid\\nWas this article helpful?\\nYes\\nNo\\nGet back to us\\nWe would love to hear from you!\\nName:\\nE-mail:\\nComment:', metadata={'doc_md_filepath': 'articles/Setup.md', 'doc_navigation_path': 'Intelligence Package // Get started', 'doc_title': 'How to open Revenue Grid', 'doc_url': 'https://docs.revenuegrid.com/articles/Setup', 'section_token_length': 148, 'short_site_name': 'Sfcc', 'site_name': 'Revenue Grid Knowledge Base'}),\n",
       " Document(page_content='Revenue Grid Integration with Salesforce Customer / Partner Community Environments', metadata={'doc_md_filepath': 'ri/fast/articles/Partner-Community-Integration.md', 'doc_navigation_path': 'Productivity & Activity Capture // User settings // Connectivity settings', 'doc_title': 'Integration with Salesforce Customer / Partner Community', 'doc_url': 'https://docs.revenuegrid.com/ri/fast/articles/Partner-Community-Integration', 'section_token_length': 11, 'short_site_name': 'Sfcc', 'site_name': 'Revenue Grid Knowledge Base'})]"
      ]
     },
     "execution_count": 6,
     "metadata": {},
     "output_type": "execute_result"
    }
   ],
   "source": [
    "docs = db.similarity_search(query, by_text=False)\n",
    "docs"
   ]
  },
  {
   "cell_type": "code",
   "execution_count": 7,
   "metadata": {},
   "outputs": [
    {
     "data": {
      "text/plain": [
       "{'doc_md_filepath': 'index.md',\n",
       " 'doc_navigation_path': '',\n",
       " 'doc_title': 'Salesforce integration Knowledge Base',\n",
       " 'doc_url': 'https://docs.revenuegrid.com/',\n",
       " 'section_token_length': 488,\n",
       " 'short_site_name': 'Sfcc',\n",
       " 'site_name': 'Revenue Grid Knowledge Base'}"
      ]
     },
     "execution_count": 7,
     "metadata": {},
     "output_type": "execute_result"
    }
   ],
   "source": [
    "docs[0].metadata"
   ]
  },
  {
   "cell_type": "code",
   "execution_count": null,
   "metadata": {},
   "outputs": [],
   "source": [
    "print(docs[0].page_content)\n",
    "docs[0].metadata['doc_title'], docs[0].metadata['doc_url']"
   ]
  },
  {
   "cell_type": "code",
   "execution_count": 47,
   "metadata": {},
   "outputs": [],
   "source": [
    "llm = OpenAI(openai_api_key=OPENAI_API_KEY)"
   ]
  },
  {
   "cell_type": "code",
   "execution_count": 8,
   "metadata": {},
   "outputs": [],
   "source": [
    "import tiktoken\n",
    "from langchain.llms import BaseLLM\n",
    "\n",
    "class DummyLLM(BaseLLM):\n",
    "    _tokenizer = tiktoken.encoding_for_model('gpt-3.5-turbo')\n",
    "\n",
    "    def predict(self, text):\n",
    "        return 'This is LLM Response'\n",
    "\n",
    "    def get_num_tokens(self, text):\n",
    "        return len(self._tokenizer.encode(text))\n",
    "\n",
    "    def _generate(\n",
    "        self,\n",
    "        prompts,\n",
    "        stop = None,\n",
    "        run_manager = None,\n",
    "        **kwargs,\n",
    "    ):\n",
    "        \"\"\"Run the LLM on the given prompts.\"\"\"\n",
    "\n",
    "    async def _agenerate(\n",
    "        self,\n",
    "        prompts,\n",
    "        stop = None,\n",
    "        run_manager = None,\n",
    "        **kwargs,\n",
    "    ):\n",
    "        \"\"\"Run the LLM on the given prompts.\"\"\"\n",
    "\n",
    "    def _llm_type(self) -> str:\n",
    "        return \"Return type of llm.\""
   ]
  },
  {
   "cell_type": "code",
   "execution_count": 9,
   "metadata": {},
   "outputs": [],
   "source": [
    "llm = DummyLLM()\n",
    "memory = ConversationTokenBufferMemory(llm=llm, max_token_limit=50)"
   ]
  },
  {
   "cell_type": "code",
   "execution_count": 10,
   "metadata": {},
   "outputs": [],
   "source": [
    "SYSTEM_MESSAGE = \\\n",
    "\"\"\"You are an AI assistant for the Revenue Grid documentation.\n",
    "You are given a question and extracted parts of product documentation. Provide a conversational answer to the question using the pieces of information provided.\n",
    "If the question includes a request for code, provide a code block directly from the documentation.\n",
    "If you don't know the answer, just say \"Hmm, I'm not sure.\" Don't try to make up an answer.\n",
    "If the question is not about Revenue Grid, politely inform them that you are tuned to only answer questions about Revenue Grid.\n",
    "\"\"\"\n",
    "TOKEN_LIMIT = 1000\n",
    "def process_query(query):\n",
    "    global memory\n",
    "\n",
    "    # memory.append(f'Question: {query}')\n",
    "    history = memory.load_memory_variables({})['history'] + '\\n' + f'Human: {query}'\n",
    "    print(f'{history = }')\n",
    "    # relevant_docs = db.similarity_search(history, by_text=False)\n",
    "    relevant_docs = docs\n",
    "\n",
    "    while sum([llm.get_num_tokens(doc.page_content) for doc in relevant_docs]) > TOKEN_LIMIT:\n",
    "        relevant_docs = relevant_docs[:-1]\n",
    "\n",
    "    summaries = [doc.page_content for doc in relevant_docs]\n",
    "    summaries = '\\n'.join(summaries)\n",
    "\n",
    "    sources = 'Sources:\\n' + '\\n'.join([f\"[{doc.metadata['doc_title']}]({doc.metadata['doc_url']})\" for doc in relevant_docs])\n",
    "\n",
    "    prompt_to_llm = SYSTEM_MESSAGE + history + 'Summaries:\\n' + summaries\n",
    "    print(f'{prompt_to_llm = }')\n",
    "    llm_answer = llm.predict(prompt_to_llm)\n",
    "    display_answer = llm_answer + '\\n--------------\\n' + sources\n",
    "\n",
    "    # memory.append(f'Answer: {llm_answer}')\n",
    "    memory.save_context({'input': query}, {'output': llm_answer})\n",
    "\n",
    "    return display_answer"
   ]
  },
  {
   "cell_type": "code",
   "execution_count": 11,
   "metadata": {},
   "outputs": [
    {
     "name": "stdout",
     "output_type": "stream",
     "text": [
      "history = '\\nHuman: What do you know about Revenue Grid?'\n",
      "prompt_to_llm = 'You are an AI assistant for the Revenue Grid documentation.\\nYou are given a question and extracted parts of product documentation. Provide a conversational answer to the question using the pieces of information provided.\\nIf the question includes a request for code, provide a code block directly from the documentation.\\nIf you don\\'t know the answer, just say \"Hmm, I\\'m not sure.\" Don\\'t try to make up an answer.\\nIf the question is not about Revenue Grid, politely inform them that you are tuned to only answer questions about Revenue Grid.\\n\\nHuman: What do you know about Revenue Grid?Summaries:\\nHave a question?\\nYou are at the right place.\\nRevenue Grid (RG) is a premium web-based guided selling platform.\\nIt\\'s Salesforce integration suite that includes efficient and immediate sales playbook automation for highly effective enterprise sales:\\n1. Strengthening sales forecast\\n2. Improving efficiency of carrying out routine Sales tasks\\n3. Running sophisticated Email, SMS or Phone call type of nurturing/drip campaigns\\n4. Supervising colleagues for better sales team coaching techniques\\nFor technical support, please contact\\nRG support team\\n.\\nKnowledge Base navigation\\nRevenue Grid Knowledge Base is subdivided into three major parts, which correspond to offered products:\\nProductivity Package & Activity Capture.\\nThis part covers using RG Email Sidebar and RG Sync Engine: user and admin settings, user actions, configuration, fine-tuning, etc.\\nEngagement Package.\\nThis part covers using RG Sequences, communication automation solution: user and admin settings, sequences and prospects management, team performance reports, etc.\\nIntelligence Package.\\nThis part covers revenue intelligence solution for sales and forecasting improvement, and smart Revenue Signals: user and admin settings, reports and forecasts, signals and their configuration, etc.\\nEach part has its own navigation, structure, release notes, frequently asked questions, etc.\\nThe Knowledge Base also contains some general sections:\\nAbout\\ncontains information on supported Salesforce editions, overcoming firewall issues, granting Revenue Grid login access for troubleshooting purposes.\\nRelease Notes\\nsummarizes all product release notes. If you need to the release notes of one product, you can find them in the KBs part dedicated to the product.\\nPrivacy & Security\\ndescribes howRevenue Gridcollects, uses, processes, and disclosesyour information, including personal information, in connection with your accesstoand use ofRevenue Grid servicesand products.\\nContact Us\\ncontains a list of means for contacting our Sales and Support teams.\\nWho benefits from using Revenue Grid\\nManagerial level employees who require automatically collected reports and analytics on the outcomes of the sales operation carried out by their teams, in order to increase;\\nSales representatives who generate leads, meet sales goals, use automated mass outreach as a leads nurturing and sales channel;\\nMarketing specialists who send out personalized ads, offers, or periodic digests to specific target groups by email;\\nPost-sales customer communication and support specialists sending out product/service updates, surveys, etc.;\\nMarketing and other researchers who spread branched step-by-step surveys and collect structured feedback for analysis;\\nDec 2020\\nDeal Guidance\\nRevenue Grid does sentiment analysis of all emails and places each on the spectrum from \"Very negative\" to \"Very positive\".\\nOn the Opportunities tab, an ability to filter Opportunities by members of a specific sales team/division has been added.\\nRead more\\n.\\nRevenue Grid widgets are available on a canvas of any Salesforce object which has email field within it.\\nRead more\\n.\\nRevenue Signals\\nNew signal has been added to the set off built-in Revenue Signals: Sales representative has responded to customer email.\\nRead more\\n.\\nWas this article helpful?\\nYes\\nNo\\nGet back to us\\nWe would love to hear from you!\\nName:\\nE-mail:\\nComment:\\nHow to open Revenue Grid\\n1. via the direct link\\nOpen the Revenue Grid access link provided by Support or Implementation teams, e.g.\\nhttps://mycompany.revenuegrid.com\\nWhen opened for the first time, you will be prompted to connect.\\nFollow the prompt with relevant option, and enter your SFDC credentials in the opened pop-up.\\n2. via Revenue Grid Email Sidebar\\nOpen Email Sidebar, whether on your Outlook.com/Office 365, MS Outlook Desktop or Gmail email client\\nOpen the Email Sidebar menu (hamburger icon **** ) and click\\nOpen Revenue Grid\\nWas this article helpful?\\nYes\\nNo\\nGet back to us\\nWe would love to hear from you!\\nName:\\nE-mail:\\nComment:\\nRevenue Grid Integration with Salesforce Customer / Partner Community Environments'\n",
      "process_query(query) = 'This is LLM Response\\n--------------\\nSources:\\n[Salesforce integration Knowledge Base](https://docs.revenuegrid.com/)\\n[Release notes](https://docs.revenuegrid.com/articles/release-notes-intelligence)\\n[How to open Revenue Grid](https://docs.revenuegrid.com/articles/Setup)\\n[Integration with Salesforce Customer / Partner Community](https://docs.revenuegrid.com/ri/fast/articles/Partner-Community-Integration)'\n"
     ]
    }
   ],
   "source": [
    "print(f'{process_query(query) = }')"
   ]
  },
  {
   "cell_type": "code",
   "execution_count": 12,
   "metadata": {},
   "outputs": [
    {
     "data": {
      "text/plain": [
       "('Human: What do you know about Revenue Grid?\\nAI: This is LLM Response', 17)"
      ]
     },
     "execution_count": 12,
     "metadata": {},
     "output_type": "execute_result"
    }
   ],
   "source": [
    "memory.load_memory_variables({})['history'], llm.get_num_tokens(memory.load_memory_variables({})['history'])"
   ]
  },
  {
   "cell_type": "code",
   "execution_count": 13,
   "metadata": {},
   "outputs": [
    {
     "data": {
      "text/plain": [
       "ChatMessageHistory(messages=[HumanMessage(content='What do you know about Revenue Grid?', additional_kwargs={}, example=False), AIMessage(content='This is LLM Response', additional_kwargs={}, example=False)])"
      ]
     },
     "execution_count": 13,
     "metadata": {},
     "output_type": "execute_result"
    }
   ],
   "source": [
    "memory.chat_memory"
   ]
  }
 ],
 "metadata": {
  "kernelspec": {
   "display_name": ".venv",
   "language": "python",
   "name": "python3"
  },
  "language_info": {
   "codemirror_mode": {
    "name": "ipython",
    "version": 3
   },
   "file_extension": ".py",
   "mimetype": "text/x-python",
   "name": "python",
   "nbconvert_exporter": "python",
   "pygments_lexer": "ipython3",
   "version": "3.10.6"
  },
  "orig_nbformat": 4
 },
 "nbformat": 4,
 "nbformat_minor": 2
}
