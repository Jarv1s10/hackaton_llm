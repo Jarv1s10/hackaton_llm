{
 "cells": [
  {
   "cell_type": "code",
   "execution_count": null,
   "metadata": {},
   "outputs": [],
   "source": [
    "import os\n",
    "import re\n",
    "import json\n",
    "\n",
    "from bs4 import BeautifulSoup\n",
    "from markdown import Markdown\n",
    "import langchain as lc\n",
    "import tiktoken\n",
    "import seaborn as sns\n",
    "import requests"
   ]
  },
  {
   "cell_type": "code",
   "execution_count": null,
   "metadata": {},
   "outputs": [],
   "source": [
    "gpt_turbo_encoding = tiktoken.encoding_for_model(\"gpt-3.5-turbo\")\n",
    "\n",
    "def delete_redundant_newlines(text: str):\n",
    "    return '\\n'.join([s.strip() for s in text.split('\\n') if s.strip()])\n",
    "\n",
    "def text_from_html(html_text):\n",
    "    text = BeautifulSoup(html_text).get_text()\n",
    "    text = text.encode('ascii', 'ignore').decode()\n",
    "    return delete_redundant_newlines(text)\n",
    "\n",
    "def len_func(text):\n",
    "    text = text_from_html(text)\n",
    "    return len(gpt_turbo_encoding.encode(text))"
   ]
  },
  {
   "cell_type": "code",
   "execution_count": null,
   "metadata": {},
   "outputs": [],
   "source": [
    "with open('../preprocessed_data/docs_objects.json') as f:\n",
    "    docs = json.load(f)"
   ]
  },
  {
   "cell_type": "code",
   "execution_count": null,
   "metadata": {},
   "outputs": [],
   "source": [
    "d = [d for d in docs if '<style' in d['full_content']][0]\n",
    "\n",
    "html_doc = BeautifulSoup(Markdown(output_format='html').convert(d['full_content']), 'lxml')\n",
    "print(html_doc.get_text())"
   ]
  },
  {
   "cell_type": "code",
   "execution_count": null,
   "metadata": {},
   "outputs": [],
   "source": [
    "headers = {'User-Agent': 'Mozilla/5.0 (Windows NT 10.0; Win64; x64) AppleWebKit/537.36 (KHTML, like Gecko) Chrome/114.0.0.0 Safari/537.36'}\n",
    "r = requests.get(d['doc_url'], headers=headers)\n",
    "print(d['doc_url'])\n",
    "print(r.status_code)\n",
    "if r.status_code == 200:\n",
    "    html_doc = BeautifulSoup(r.content.decode()).find('article')"
   ]
  },
  {
   "cell_type": "code",
   "execution_count": null,
   "metadata": {},
   "outputs": [],
   "source": [
    "print(html_doc.get_text())"
   ]
  },
  {
   "cell_type": "code",
   "execution_count": null,
   "metadata": {},
   "outputs": [],
   "source": [
    "BeautifulSoup(r.content.decode()).find('title')"
   ]
  },
  {
   "cell_type": "code",
   "execution_count": null,
   "metadata": {},
   "outputs": [],
   "source": [
    "BeautifulSoup(r.content.decode()).find('article').find('h1')"
   ]
  },
  {
   "cell_type": "code",
   "execution_count": null,
   "metadata": {},
   "outputs": [],
   "source": [
    "len_func(html_doc)"
   ]
  },
  {
   "cell_type": "code",
   "execution_count": null,
   "metadata": {},
   "outputs": [],
   "source": [
    "splitter = lc.text_splitter.RecursiveCharacterTextSplitter([\"<h1\", \"<h2\", \"<h3\", \"<h4\", \"<h5\", \"<h6\"], chunk_size=400, chunk_overlap=0, length_function=len_func, keep_separator=True)\n",
    "# splitter = lc.text_splitter.RecursiveCharacterTextSplitter.from_language('html', chunk_size=400, chunk_overlap=0, length_function=len_func, keep_separator=True)\n",
    "splits = splitter.split_text(html_doc)\n",
    "splits = splitter._merge_splits(splits, '\\n')\n",
    "\n",
    "splits = list(map(text_from_html, splits))\n",
    "splits"
   ]
  },
  {
   "cell_type": "code",
   "execution_count": null,
   "metadata": {},
   "outputs": [],
   "source": [
    "list(map(len_func, splits))"
   ]
  },
  {
   "cell_type": "code",
   "execution_count": null,
   "metadata": {},
   "outputs": [],
   "source": [
    "from tqdm import tqdm\n",
    "\n",
    "headers = {'User-Agent': 'Mozilla/5.0 (Windows NT 10.0; Win64; x64) AppleWebKit/537.36 (KHTML, like Gecko) Chrome/114.0.0.0 Safari/537.36'}\n",
    "for d in tqdm(docs):\n",
    "    r = requests.get(d['doc_url'], headers=headers)\n",
    "    if r.status_code != 200:\n",
    "        print(d['title'], d['doc_url'], r.status_code)"
   ]
  },
  {
   "cell_type": "code",
   "execution_count": null,
   "metadata": {},
   "outputs": [],
   "source": [
    "with open('../preprocessed_data/documents.json') as f:\n",
    "    docs = json.load(f)\n",
    "\n",
    "sns.histplot([d['metadata']['section_token_length'] for d in docs])"
   ]
  },
  {
   "cell_type": "code",
   "execution_count": null,
   "metadata": {},
   "outputs": [],
   "source": [
    "len(docs)"
   ]
  }
 ],
 "metadata": {
  "kernelspec": {
   "display_name": ".venv",
   "language": "python",
   "name": "python3"
  },
  "language_info": {
   "codemirror_mode": {
    "name": "ipython",
    "version": 3
   },
   "file_extension": ".py",
   "mimetype": "text/x-python",
   "name": "python",
   "nbconvert_exporter": "python",
   "pygments_lexer": "ipython3",
   "version": "3.10.6"
  },
  "orig_nbformat": 4
 },
 "nbformat": 4,
 "nbformat_minor": 2
}
