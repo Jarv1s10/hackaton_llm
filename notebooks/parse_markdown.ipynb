{
 "cells": [
  {
   "cell_type": "code",
   "execution_count": null,
   "metadata": {},
   "outputs": [],
   "source": [
    "from markdown import Markdown\n",
    "from io import StringIO\n",
    "import yaml\n",
    "import json\n",
    "import os"
   ]
  },
  {
   "cell_type": "code",
   "execution_count": null,
   "metadata": {},
   "outputs": [],
   "source": [
    "def unmark_element(element, stream=None):\n",
    "    if stream is None:\n",
    "        stream = StringIO()\n",
    "    if element.text:\n",
    "        stream.write(element.text)\n",
    "    for sub in element:\n",
    "        unmark_element(sub, stream)\n",
    "    if element.tail:\n",
    "        stream.write(element.tail)\n",
    "    return stream.getvalue()\n",
    "\n",
    "\n",
    "# patching Markdown\n",
    "Markdown.output_formats[\"plain\"] = unmark_element\n",
    "__md = Markdown(output_format=\"plain\")\n",
    "__md.stripTopLevelTags = False\n",
    "\n",
    "\n",
    "def unmark(text):\n",
    "    return __md.convert(text).replace('&nbsp;', '\\n')\n"
   ]
  },
  {
   "cell_type": "code",
   "execution_count": null,
   "metadata": {},
   "outputs": [],
   "source": [
    "import re\n",
    "\n",
    "def delete_html_tags(text):\n",
    "    CLEANR = re.compile(r'<.*?>')\n",
    "    t = re.sub(CLEANR, ' ', text)\n",
    "    t = ' '.join([s for s in t.split(' ') if s])\n",
    "    return t\n",
    "\n",
    "def clear_text(text):\n",
    "    t = unmark(text)\n",
    "    t = delete_html_tags(t)\n",
    "    t = '\\n'.join([s for s in t.split('\\n') if s])\n",
    "    return t"
   ]
  },
  {
   "cell_type": "code",
   "execution_count": null,
   "metadata": {},
   "outputs": [],
   "source": [
    "with open('../markdown_files/sfcc_docs/mkdocs.yml', 'r') as f:\n",
    "    try:\n",
    "        c4c_struct = yaml.safe_load(f)\n",
    "    except yaml.YAMLError as e:\n",
    "        print(e)\n",
    "print(json.dumps(c4c_struct, indent=4))"
   ]
  },
  {
   "cell_type": "code",
   "execution_count": null,
   "metadata": {},
   "outputs": [],
   "source": [
    "with open('../markdown_files/sfcc_docs/ri/fast/articles/AddIn-vs-Sync-Functions.md', 'r') as f:\n",
    "    text = f.read()\n",
    "print(text)"
   ]
  },
  {
   "cell_type": "code",
   "execution_count": null,
   "metadata": {},
   "outputs": [],
   "source": [
    "print(clear_text(text))"
   ]
  },
  {
   "cell_type": "code",
   "execution_count": null,
   "metadata": {},
   "outputs": [],
   "source": [
    "for dirpath, dirnames, filenames in os.walk('../markdown_files/'):\n",
    "    print(dirpath, dirnames, filenames)"
   ]
  },
  {
   "cell_type": "code",
   "execution_count": null,
   "metadata": {},
   "outputs": [],
   "source": [
    "for base_docs in os.listdir('../markdown_files/'):\n",
    "    base_path = os.path.join(os.pardir, 'markdown_files', base_docs)\n",
    "    with open(os.path.join(base_path, 'mkdocs.yml'), 'r') as f:\n",
    "        mkdocs = yaml.safe_load(f)\n",
    "    base_url = mkdocs['site_url']\n",
    "\n",
    "    for dirpath, dirnames, filenames in os.walk(base_path):\n",
    "        for fname in filenames:\n",
    "            if fname.endswith('.md'):\n",
    "                with open(os.path.join(dirpath, fname), 'r') as f:\n",
    "                    text = f.read()\n",
    "\n",
    "                clean_text = clear_text(text)\n",
    "                print(f'{len(text) = }, {len(clean_text) = }, {100 - int(len(clean_text) / len(text) * 100)}% improvement')\n",
    "\n",
    "                web_url = os.path.join(*([base_url] + dirpath.split(os.path.sep)[3:]))\n",
    "                if not fname.startswith('index'):\n",
    "                    web_url = os.path.join(web_url, fname.replace('.md', ''))\n",
    "                print(web_url)\n",
    "\n",
    "                new_path = dirpath.replace('/markdown_files/', '/basic_preprocessing/')\n",
    "                new_fname = fname.replace('.md', '.json')\n",
    "                new_full_filepath = os.path.join(new_path, new_fname)\n",
    "                os.makedirs(new_path, exist_ok=True)\n",
    "\n",
    "                with open(new_full_filepath, 'w') as f:\n",
    "                    json.dump({\n",
    "                        'site_name': mkdocs['site_name'],\n",
    "                        'short_site_name': 'C4C' if 'c4c' in base_path else 'Sfcc',\n",
    "                        'doc_dir': os.path.join(*new_full_filepath.split(os.path.sep)[3:]).replace('.json', '.md'),\n",
    "                        'doc_url': web_url,\n",
    "                        'title': None,\n",
    "                        'full_content': text,\n",
    "                        'text_content': clean_text,\n",
    "                        }, f, indent=4)"
   ]
  }
 ],
 "metadata": {
  "kernelspec": {
   "display_name": ".venv",
   "language": "python",
   "name": "python3"
  },
  "language_info": {
   "codemirror_mode": {
    "name": "ipython",
    "version": 3
   },
   "file_extension": ".py",
   "mimetype": "text/x-python",
   "name": "python",
   "nbconvert_exporter": "python",
   "pygments_lexer": "ipython3",
   "version": "3.10.6"
  },
  "orig_nbformat": 4
 },
 "nbformat": 4,
 "nbformat_minor": 2
}
